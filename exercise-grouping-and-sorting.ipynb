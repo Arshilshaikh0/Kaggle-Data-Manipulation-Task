{
 "cells": [
  {
   "cell_type": "markdown",
   "id": "de225e78",
   "metadata": {
    "papermill": {
     "duration": 0.006177,
     "end_time": "2022-08-13T21:01:00.088535",
     "exception": false,
     "start_time": "2022-08-13T21:01:00.082358",
     "status": "completed"
    },
    "tags": []
   },
   "source": [
    "**This notebook is an exercise in the [Pandas](https://www.kaggle.com/learn/pandas) course.  You can reference the tutorial at [this link](https://www.kaggle.com/residentmario/grouping-and-sorting).**\n",
    "\n",
    "---\n"
   ]
  },
  {
   "cell_type": "markdown",
   "id": "66c03013",
   "metadata": {
    "papermill": {
     "duration": 0.004936,
     "end_time": "2022-08-13T21:01:00.098865",
     "exception": false,
     "start_time": "2022-08-13T21:01:00.093929",
     "status": "completed"
    },
    "tags": []
   },
   "source": [
    "# Introduction\n",
    "\n",
    "In these exercises we'll apply groupwise analysis to our dataset.\n",
    "\n",
    "Run the code cell below to load the data before running the exercises."
   ]
  },
  {
   "cell_type": "code",
   "execution_count": 1,
   "id": "f1596b84",
   "metadata": {
    "execution": {
     "iopub.execute_input": "2022-08-13T21:01:00.111408Z",
     "iopub.status.busy": "2022-08-13T21:01:00.110685Z",
     "iopub.status.idle": "2022-08-13T21:01:02.972901Z",
     "shell.execute_reply": "2022-08-13T21:01:02.971710Z"
    },
    "papermill": {
     "duration": 2.872243,
     "end_time": "2022-08-13T21:01:02.976250",
     "exception": false,
     "start_time": "2022-08-13T21:01:00.104007",
     "status": "completed"
    },
    "tags": []
   },
   "outputs": [
    {
     "name": "stdout",
     "output_type": "stream",
     "text": [
      "Setup complete.\n"
     ]
    }
   ],
   "source": [
    "import pandas as pd\n",
    "\n",
    "reviews = pd.read_csv(\"../input/wine-reviews/winemag-data-130k-v2.csv\", index_col=0)\n",
    "#pd.set_option(\"display.max_rows\", 5)\n",
    "\n",
    "from learntools.core import binder; binder.bind(globals())\n",
    "from learntools.pandas.grouping_and_sorting import *\n",
    "print(\"Setup complete.\")"
   ]
  },
  {
   "cell_type": "markdown",
   "id": "cacb1d87",
   "metadata": {
    "papermill": {
     "duration": 0.00512,
     "end_time": "2022-08-13T21:01:02.987219",
     "exception": false,
     "start_time": "2022-08-13T21:01:02.982099",
     "status": "completed"
    },
    "tags": []
   },
   "source": [
    "# Exercises"
   ]
  },
  {
   "cell_type": "markdown",
   "id": "bf20268c",
   "metadata": {
    "papermill": {
     "duration": 0.005121,
     "end_time": "2022-08-13T21:01:02.997615",
     "exception": false,
     "start_time": "2022-08-13T21:01:02.992494",
     "status": "completed"
    },
    "tags": []
   },
   "source": [
    "## 1.\n",
    "Who are the most common wine reviewers in the dataset? Create a `Series` whose index is the `taster_twitter_handle` category from the dataset, and whose values count how many reviews each person wrote."
   ]
  },
  {
   "cell_type": "code",
   "execution_count": 2,
   "id": "4c97232c",
   "metadata": {
    "execution": {
     "iopub.execute_input": "2022-08-13T21:01:03.010427Z",
     "iopub.status.busy": "2022-08-13T21:01:03.009531Z",
     "iopub.status.idle": "2022-08-13T21:01:03.032173Z",
     "shell.execute_reply": "2022-08-13T21:01:03.031393Z"
    },
    "papermill": {
     "duration": 0.031251,
     "end_time": "2022-08-13T21:01:03.034136",
     "exception": false,
     "start_time": "2022-08-13T21:01:03.002885",
     "status": "completed"
    },
    "tags": []
   },
   "outputs": [
    {
     "data": {
      "application/javascript": [
       "parent.postMessage({\"jupyterEvent\": \"custom.exercise_interaction\", \"data\": {\"outcomeType\": 1, \"valueTowardsCompletion\": 0.16666666666666666, \"interactionType\": 1, \"questionType\": 1, \"questionId\": \"1_ReviewsWritten\", \"learnToolsVersion\": \"0.3.4\", \"failureMessage\": \"\", \"exceptionClass\": \"\", \"trace\": \"\"}}, \"*\")"
      ],
      "text/plain": [
       "<IPython.core.display.Javascript object>"
      ]
     },
     "metadata": {},
     "output_type": "display_data"
    },
    {
     "data": {
      "text/markdown": [
       "<span style=\"color:#33cc33\">Correct:</span> \n",
       "\n",
       "\n",
       "```python\n",
       "reviews_written = reviews.groupby('taster_twitter_handle').size()\n",
       "```\n",
       "or\n",
       "```python\n",
       "reviews_written = reviews.groupby('taster_twitter_handle').taster_twitter_handle.count()\n",
       "```\n"
      ],
      "text/plain": [
       "Correct: \n",
       "\n",
       "\n",
       "```python\n",
       "reviews_written = reviews.groupby('taster_twitter_handle').size()\n",
       "```\n",
       "or\n",
       "```python\n",
       "reviews_written = reviews.groupby('taster_twitter_handle').taster_twitter_handle.count()\n",
       "```"
      ]
     },
     "metadata": {},
     "output_type": "display_data"
    }
   ],
   "source": [
    "# Your code here\n",
    "reviews_written = reviews.groupby('taster_twitter_handle').size()\n",
    "\n",
    "# Check your answer\n",
    "q1.check()"
   ]
  },
  {
   "cell_type": "code",
   "execution_count": 3,
   "id": "7737c054",
   "metadata": {
    "execution": {
     "iopub.execute_input": "2022-08-13T21:01:03.047811Z",
     "iopub.status.busy": "2022-08-13T21:01:03.047097Z",
     "iopub.status.idle": "2022-08-13T21:01:03.050731Z",
     "shell.execute_reply": "2022-08-13T21:01:03.050010Z"
    },
    "papermill": {
     "duration": 0.012912,
     "end_time": "2022-08-13T21:01:03.052968",
     "exception": false,
     "start_time": "2022-08-13T21:01:03.040056",
     "status": "completed"
    },
    "tags": []
   },
   "outputs": [],
   "source": [
    "#q1.hint()\n",
    "#q1.solution()"
   ]
  },
  {
   "cell_type": "markdown",
   "id": "f39c75ec",
   "metadata": {
    "papermill": {
     "duration": 0.005561,
     "end_time": "2022-08-13T21:01:03.064444",
     "exception": false,
     "start_time": "2022-08-13T21:01:03.058883",
     "status": "completed"
    },
    "tags": []
   },
   "source": [
    "## 2.\n",
    "What is the best wine I can buy for a given amount of money? Create a `Series` whose index is wine prices and whose values is the maximum number of points a wine costing that much was given in a review. Sort the values by price, ascending (so that `4.0` dollars is at the top and `3300.0` dollars is at the bottom)."
   ]
  },
  {
   "cell_type": "code",
   "execution_count": 4,
   "id": "98238d75",
   "metadata": {
    "execution": {
     "iopub.execute_input": "2022-08-13T21:01:03.077969Z",
     "iopub.status.busy": "2022-08-13T21:01:03.077269Z",
     "iopub.status.idle": "2022-08-13T21:01:03.089822Z",
     "shell.execute_reply": "2022-08-13T21:01:03.089039Z"
    },
    "papermill": {
     "duration": 0.021714,
     "end_time": "2022-08-13T21:01:03.091916",
     "exception": false,
     "start_time": "2022-08-13T21:01:03.070202",
     "status": "completed"
    },
    "tags": []
   },
   "outputs": [
    {
     "data": {
      "application/javascript": [
       "parent.postMessage({\"jupyterEvent\": \"custom.exercise_interaction\", \"data\": {\"outcomeType\": 1, \"valueTowardsCompletion\": 0.16666666666666666, \"interactionType\": 1, \"questionType\": 1, \"questionId\": \"2_BestRatingPerPrice\", \"learnToolsVersion\": \"0.3.4\", \"failureMessage\": \"\", \"exceptionClass\": \"\", \"trace\": \"\"}}, \"*\")"
      ],
      "text/plain": [
       "<IPython.core.display.Javascript object>"
      ]
     },
     "metadata": {},
     "output_type": "display_data"
    },
    {
     "data": {
      "text/markdown": [
       "<span style=\"color:#33cc33\">Correct</span>"
      ],
      "text/plain": [
       "Correct"
      ]
     },
     "metadata": {},
     "output_type": "display_data"
    }
   ],
   "source": [
    "best_rating_per_price = reviews.groupby('price')['points'].max().sort_index()\n",
    "\n",
    "# Check your answer\n",
    "q2.check()"
   ]
  },
  {
   "cell_type": "code",
   "execution_count": 5,
   "id": "2d9c5db6",
   "metadata": {
    "execution": {
     "iopub.execute_input": "2022-08-13T21:01:03.105920Z",
     "iopub.status.busy": "2022-08-13T21:01:03.105214Z",
     "iopub.status.idle": "2022-08-13T21:01:03.108749Z",
     "shell.execute_reply": "2022-08-13T21:01:03.108044Z"
    },
    "papermill": {
     "duration": 0.012621,
     "end_time": "2022-08-13T21:01:03.110698",
     "exception": false,
     "start_time": "2022-08-13T21:01:03.098077",
     "status": "completed"
    },
    "tags": []
   },
   "outputs": [],
   "source": [
    "#q2.hint()\n",
    "#q2.solution()"
   ]
  },
  {
   "cell_type": "markdown",
   "id": "a2f460b4",
   "metadata": {
    "papermill": {
     "duration": 0.005666,
     "end_time": "2022-08-13T21:01:03.122153",
     "exception": false,
     "start_time": "2022-08-13T21:01:03.116487",
     "status": "completed"
    },
    "tags": []
   },
   "source": [
    "## 3.\n",
    "What are the minimum and maximum prices for each `variety` of wine? Create a `DataFrame` whose index is the `variety` category from the dataset and whose values are the `min` and `max` values thereof."
   ]
  },
  {
   "cell_type": "code",
   "execution_count": 6,
   "id": "069ecc6b",
   "metadata": {
    "execution": {
     "iopub.execute_input": "2022-08-13T21:01:03.135627Z",
     "iopub.status.busy": "2022-08-13T21:01:03.134942Z",
     "iopub.status.idle": "2022-08-13T21:01:03.158937Z",
     "shell.execute_reply": "2022-08-13T21:01:03.157659Z"
    },
    "papermill": {
     "duration": 0.033458,
     "end_time": "2022-08-13T21:01:03.161319",
     "exception": false,
     "start_time": "2022-08-13T21:01:03.127861",
     "status": "completed"
    },
    "tags": []
   },
   "outputs": [
    {
     "data": {
      "application/javascript": [
       "parent.postMessage({\"jupyterEvent\": \"custom.exercise_interaction\", \"data\": {\"outcomeType\": 1, \"valueTowardsCompletion\": 0.16666666666666666, \"interactionType\": 1, \"questionType\": 1, \"questionId\": \"3_PriceExtremes\", \"learnToolsVersion\": \"0.3.4\", \"failureMessage\": \"\", \"exceptionClass\": \"\", \"trace\": \"\"}}, \"*\")"
      ],
      "text/plain": [
       "<IPython.core.display.Javascript object>"
      ]
     },
     "metadata": {},
     "output_type": "display_data"
    },
    {
     "data": {
      "text/markdown": [
       "<span style=\"color:#33cc33\">Correct</span>"
      ],
      "text/plain": [
       "Correct"
      ]
     },
     "metadata": {},
     "output_type": "display_data"
    }
   ],
   "source": [
    "price_extremes = reviews.groupby('variety').price.agg([min, max])\n",
    "\n",
    "# Check your answer\n",
    "q3.check()"
   ]
  },
  {
   "cell_type": "code",
   "execution_count": 7,
   "id": "bf23f75b",
   "metadata": {
    "execution": {
     "iopub.execute_input": "2022-08-13T21:01:03.176630Z",
     "iopub.status.busy": "2022-08-13T21:01:03.175943Z",
     "iopub.status.idle": "2022-08-13T21:01:03.180493Z",
     "shell.execute_reply": "2022-08-13T21:01:03.179437Z"
    },
    "papermill": {
     "duration": 0.015169,
     "end_time": "2022-08-13T21:01:03.182656",
     "exception": false,
     "start_time": "2022-08-13T21:01:03.167487",
     "status": "completed"
    },
    "tags": []
   },
   "outputs": [],
   "source": [
    "#q3.hint()\n",
    "#q3.solution()"
   ]
  },
  {
   "cell_type": "markdown",
   "id": "e140232a",
   "metadata": {
    "papermill": {
     "duration": 0.005723,
     "end_time": "2022-08-13T21:01:03.194562",
     "exception": false,
     "start_time": "2022-08-13T21:01:03.188839",
     "status": "completed"
    },
    "tags": []
   },
   "source": [
    "## 4.\n",
    "What are the most expensive wine varieties? Create a variable `sorted_varieties` containing a copy of the dataframe from the previous question where varieties are sorted in descending order based on minimum price, then on maximum price (to break ties)."
   ]
  },
  {
   "cell_type": "code",
   "execution_count": 8,
   "id": "8fb3492d",
   "metadata": {
    "execution": {
     "iopub.execute_input": "2022-08-13T21:01:03.208833Z",
     "iopub.status.busy": "2022-08-13T21:01:03.208405Z",
     "iopub.status.idle": "2022-08-13T21:01:03.220225Z",
     "shell.execute_reply": "2022-08-13T21:01:03.219305Z"
    },
    "papermill": {
     "duration": 0.021741,
     "end_time": "2022-08-13T21:01:03.222409",
     "exception": false,
     "start_time": "2022-08-13T21:01:03.200668",
     "status": "completed"
    },
    "tags": []
   },
   "outputs": [
    {
     "data": {
      "application/javascript": [
       "parent.postMessage({\"jupyterEvent\": \"custom.exercise_interaction\", \"data\": {\"outcomeType\": 1, \"valueTowardsCompletion\": 0.16666666666666666, \"interactionType\": 1, \"questionType\": 1, \"questionId\": \"4_SortedVarieties\", \"learnToolsVersion\": \"0.3.4\", \"failureMessage\": \"\", \"exceptionClass\": \"\", \"trace\": \"\"}}, \"*\")"
      ],
      "text/plain": [
       "<IPython.core.display.Javascript object>"
      ]
     },
     "metadata": {},
     "output_type": "display_data"
    },
    {
     "data": {
      "text/markdown": [
       "<span style=\"color:#33cc33\">Correct</span>"
      ],
      "text/plain": [
       "Correct"
      ]
     },
     "metadata": {},
     "output_type": "display_data"
    }
   ],
   "source": [
    "sorted_varieties = price_extremes.sort_values(by=['min', 'max'], ascending=False)\n",
    "\n",
    "# Check your answer\n",
    "q4.check()"
   ]
  },
  {
   "cell_type": "code",
   "execution_count": 9,
   "id": "6c50110c",
   "metadata": {
    "execution": {
     "iopub.execute_input": "2022-08-13T21:01:03.237170Z",
     "iopub.status.busy": "2022-08-13T21:01:03.236511Z",
     "iopub.status.idle": "2022-08-13T21:01:03.241129Z",
     "shell.execute_reply": "2022-08-13T21:01:03.240147Z"
    },
    "papermill": {
     "duration": 0.01465,
     "end_time": "2022-08-13T21:01:03.243318",
     "exception": false,
     "start_time": "2022-08-13T21:01:03.228668",
     "status": "completed"
    },
    "tags": []
   },
   "outputs": [],
   "source": [
    "#q4.hint()\n",
    "#q4.solution()"
   ]
  },
  {
   "cell_type": "markdown",
   "id": "30a6cdc6",
   "metadata": {
    "papermill": {
     "duration": 0.006182,
     "end_time": "2022-08-13T21:01:03.256271",
     "exception": false,
     "start_time": "2022-08-13T21:01:03.250089",
     "status": "completed"
    },
    "tags": []
   },
   "source": [
    "## 5.\n",
    "Create a `Series` whose index is reviewers and whose values is the average review score given out by that reviewer. Hint: you will need the `taster_name` and `points` columns."
   ]
  },
  {
   "cell_type": "code",
   "execution_count": 10,
   "id": "ef3cedae",
   "metadata": {
    "execution": {
     "iopub.execute_input": "2022-08-13T21:01:03.271022Z",
     "iopub.status.busy": "2022-08-13T21:01:03.270270Z",
     "iopub.status.idle": "2022-08-13T21:01:03.289899Z",
     "shell.execute_reply": "2022-08-13T21:01:03.289130Z"
    },
    "papermill": {
     "duration": 0.029392,
     "end_time": "2022-08-13T21:01:03.292078",
     "exception": false,
     "start_time": "2022-08-13T21:01:03.262686",
     "status": "completed"
    },
    "tags": []
   },
   "outputs": [
    {
     "data": {
      "application/javascript": [
       "parent.postMessage({\"jupyterEvent\": \"custom.exercise_interaction\", \"data\": {\"outcomeType\": 1, \"valueTowardsCompletion\": 0.16666666666666666, \"interactionType\": 1, \"questionType\": 1, \"questionId\": \"5_ReviewerMeanRatings\", \"learnToolsVersion\": \"0.3.4\", \"failureMessage\": \"\", \"exceptionClass\": \"\", \"trace\": \"\"}}, \"*\")"
      ],
      "text/plain": [
       "<IPython.core.display.Javascript object>"
      ]
     },
     "metadata": {},
     "output_type": "display_data"
    },
    {
     "data": {
      "text/markdown": [
       "<span style=\"color:#33cc33\">Correct</span>"
      ],
      "text/plain": [
       "Correct"
      ]
     },
     "metadata": {},
     "output_type": "display_data"
    }
   ],
   "source": [
    "reviewer_mean_ratings = reviews.groupby('taster_name').points.mean()\n",
    "\n",
    "# Check your answer\n",
    "q5.check()"
   ]
  },
  {
   "cell_type": "code",
   "execution_count": 11,
   "id": "ca8a37d4",
   "metadata": {
    "execution": {
     "iopub.execute_input": "2022-08-13T21:01:03.307233Z",
     "iopub.status.busy": "2022-08-13T21:01:03.306339Z",
     "iopub.status.idle": "2022-08-13T21:01:03.310654Z",
     "shell.execute_reply": "2022-08-13T21:01:03.309632Z"
    },
    "papermill": {
     "duration": 0.014284,
     "end_time": "2022-08-13T21:01:03.312858",
     "exception": false,
     "start_time": "2022-08-13T21:01:03.298574",
     "status": "completed"
    },
    "tags": []
   },
   "outputs": [],
   "source": [
    "#q5.hint()\n",
    "#q5.solution()"
   ]
  },
  {
   "cell_type": "markdown",
   "id": "8fedc291",
   "metadata": {
    "papermill": {
     "duration": 0.006328,
     "end_time": "2022-08-13T21:01:03.325735",
     "exception": false,
     "start_time": "2022-08-13T21:01:03.319407",
     "status": "completed"
    },
    "tags": []
   },
   "source": [
    "Are there significant differences in the average scores assigned by the various reviewers? Run the cell below to use the `describe()` method to see a summary of the range of values."
   ]
  },
  {
   "cell_type": "code",
   "execution_count": 12,
   "id": "823c3de6",
   "metadata": {
    "execution": {
     "iopub.execute_input": "2022-08-13T21:01:03.341233Z",
     "iopub.status.busy": "2022-08-13T21:01:03.340498Z",
     "iopub.status.idle": "2022-08-13T21:01:03.352427Z",
     "shell.execute_reply": "2022-08-13T21:01:03.351190Z"
    },
    "papermill": {
     "duration": 0.022551,
     "end_time": "2022-08-13T21:01:03.355040",
     "exception": false,
     "start_time": "2022-08-13T21:01:03.332489",
     "status": "completed"
    },
    "tags": []
   },
   "outputs": [
    {
     "data": {
      "text/plain": [
       "count    19.000000\n",
       "mean     88.233026\n",
       "std       1.243610\n",
       "min      85.855422\n",
       "25%      87.323501\n",
       "50%      88.536235\n",
       "75%      88.975256\n",
       "max      90.562551\n",
       "Name: points, dtype: float64"
      ]
     },
     "execution_count": 12,
     "metadata": {},
     "output_type": "execute_result"
    }
   ],
   "source": [
    "reviewer_mean_ratings.describe()"
   ]
  },
  {
   "cell_type": "markdown",
   "id": "086b1811",
   "metadata": {
    "papermill": {
     "duration": 0.006695,
     "end_time": "2022-08-13T21:01:03.368624",
     "exception": false,
     "start_time": "2022-08-13T21:01:03.361929",
     "status": "completed"
    },
    "tags": []
   },
   "source": [
    "## 6.\n",
    "What combination of countries and varieties are most common? Create a `Series` whose index is a `MultiIndex`of `{country, variety}` pairs. For example, a pinot noir produced in the US should map to `{\"US\", \"Pinot Noir\"}`. Sort the values in the `Series` in descending order based on wine count."
   ]
  },
  {
   "cell_type": "code",
   "execution_count": 13,
   "id": "1a59bd32",
   "metadata": {
    "execution": {
     "iopub.execute_input": "2022-08-13T21:01:03.383803Z",
     "iopub.status.busy": "2022-08-13T21:01:03.383406Z",
     "iopub.status.idle": "2022-08-13T21:01:03.391641Z",
     "shell.execute_reply": "2022-08-13T21:01:03.390706Z"
    },
    "papermill": {
     "duration": 0.018634,
     "end_time": "2022-08-13T21:01:03.393893",
     "exception": false,
     "start_time": "2022-08-13T21:01:03.375259",
     "status": "completed"
    },
    "tags": []
   },
   "outputs": [
    {
     "data": {
      "application/javascript": [
       "parent.postMessage({\"jupyterEvent\": \"custom.exercise_interaction\", \"data\": {\"outcomeType\": 4, \"interactionType\": 1, \"questionType\": 1, \"questionId\": \"6_GroupbyCountryVariety\", \"learnToolsVersion\": \"0.3.4\", \"valueTowardsCompletion\": 0.0, \"failureMessage\": \"\", \"exceptionClass\": \"\", \"trace\": \"\"}}, \"*\")"
      ],
      "text/plain": [
       "<IPython.core.display.Javascript object>"
      ]
     },
     "metadata": {},
     "output_type": "display_data"
    },
    {
     "data": {
      "text/markdown": [
       "<span style=\"color:#ccaa33\">Check:</span> When you've updated the starter code, `check()` will tell you whether your code is correct. You need to update the code that creates variable `country_variety_counts`"
      ],
      "text/plain": [
       "Check: When you've updated the starter code, `check()` will tell you whether your code is correct. You need to update the code that creates variable `country_variety_counts`"
      ]
     },
     "metadata": {},
     "output_type": "display_data"
    }
   ],
   "source": [
    "country_variety_counts = ____\n",
    "\n",
    "# Check your answer\n",
    "q6.check()"
   ]
  },
  {
   "cell_type": "code",
   "execution_count": 14,
   "id": "85ff5365",
   "metadata": {
    "execution": {
     "iopub.execute_input": "2022-08-13T21:01:03.409452Z",
     "iopub.status.busy": "2022-08-13T21:01:03.409052Z",
     "iopub.status.idle": "2022-08-13T21:01:03.413259Z",
     "shell.execute_reply": "2022-08-13T21:01:03.412189Z"
    },
    "papermill": {
     "duration": 0.014586,
     "end_time": "2022-08-13T21:01:03.415565",
     "exception": false,
     "start_time": "2022-08-13T21:01:03.400979",
     "status": "completed"
    },
    "tags": []
   },
   "outputs": [],
   "source": [
    "#q6.hint()\n",
    "#q6.solution()"
   ]
  },
  {
   "cell_type": "markdown",
   "id": "fd6d71db",
   "metadata": {
    "papermill": {
     "duration": 0.007046,
     "end_time": "2022-08-13T21:01:03.429870",
     "exception": false,
     "start_time": "2022-08-13T21:01:03.422824",
     "status": "completed"
    },
    "tags": []
   },
   "source": [
    "# Keep going\n",
    "\n",
    "Move on to the [**data types and missing data**](https://www.kaggle.com/residentmario/data-types-and-missing-values)."
   ]
  },
  {
   "cell_type": "markdown",
   "id": "ac5f096e",
   "metadata": {
    "papermill": {
     "duration": 0.006869,
     "end_time": "2022-08-13T21:01:03.443846",
     "exception": false,
     "start_time": "2022-08-13T21:01:03.436977",
     "status": "completed"
    },
    "tags": []
   },
   "source": [
    "---\n",
    "\n",
    "\n",
    "\n",
    "\n",
    "*Have questions or comments? Visit the [course discussion forum](https://www.kaggle.com/learn/pandas/discussion) to chat with other learners.*"
   ]
  }
 ],
 "metadata": {
  "kernelspec": {
   "display_name": "Python 3",
   "language": "python",
   "name": "python3"
  },
  "language_info": {
   "codemirror_mode": {
    "name": "ipython",
    "version": 3
   },
   "file_extension": ".py",
   "mimetype": "text/x-python",
   "name": "python",
   "nbconvert_exporter": "python",
   "pygments_lexer": "ipython3",
   "version": "3.7.12"
  },
  "papermill": {
   "default_parameters": {},
   "duration": 12.488625,
   "end_time": "2022-08-13T21:01:04.173172",
   "environment_variables": {},
   "exception": null,
   "input_path": "__notebook__.ipynb",
   "output_path": "__notebook__.ipynb",
   "parameters": {},
   "start_time": "2022-08-13T21:00:51.684547",
   "version": "2.3.4"
  }
 },
 "nbformat": 4,
 "nbformat_minor": 5
}
