{
 "cells": [
  {
   "cell_type": "markdown",
   "id": "a3374dd8",
   "metadata": {
    "papermill": {
     "duration": 0.005219,
     "end_time": "2022-08-13T21:01:20.190851",
     "exception": false,
     "start_time": "2022-08-13T21:01:20.185632",
     "status": "completed"
    },
    "tags": []
   },
   "source": [
    "**This notebook is an exercise in the [Pandas](https://www.kaggle.com/learn/pandas) course.  You can reference the tutorial at [this link](https://www.kaggle.com/residentmario/data-types-and-missing-values).**\n",
    "\n",
    "---\n"
   ]
  },
  {
   "cell_type": "markdown",
   "id": "262c0d70",
   "metadata": {
    "papermill": {
     "duration": 0.003685,
     "end_time": "2022-08-13T21:01:20.198791",
     "exception": false,
     "start_time": "2022-08-13T21:01:20.195106",
     "status": "completed"
    },
    "tags": []
   },
   "source": [
    "# Introduction\n",
    "\n",
    "Run the following cell to load your data and some utility functions."
   ]
  },
  {
   "cell_type": "code",
   "execution_count": 1,
   "id": "73c2cd71",
   "metadata": {
    "execution": {
     "iopub.execute_input": "2022-08-13T21:01:20.209677Z",
     "iopub.status.busy": "2022-08-13T21:01:20.208632Z",
     "iopub.status.idle": "2022-08-13T21:01:23.115905Z",
     "shell.execute_reply": "2022-08-13T21:01:23.114628Z"
    },
    "papermill": {
     "duration": 2.915903,
     "end_time": "2022-08-13T21:01:23.118591",
     "exception": false,
     "start_time": "2022-08-13T21:01:20.202688",
     "status": "completed"
    },
    "tags": []
   },
   "outputs": [
    {
     "name": "stdout",
     "output_type": "stream",
     "text": [
      "Setup complete.\n"
     ]
    }
   ],
   "source": [
    "import pandas as pd\n",
    "\n",
    "reviews = pd.read_csv(\"../input/wine-reviews/winemag-data-130k-v2.csv\", index_col=0)\n",
    "\n",
    "from learntools.core import binder; binder.bind(globals())\n",
    "from learntools.pandas.data_types_and_missing_data import *\n",
    "print(\"Setup complete.\")"
   ]
  },
  {
   "cell_type": "markdown",
   "id": "4d535293",
   "metadata": {
    "papermill": {
     "duration": 0.003837,
     "end_time": "2022-08-13T21:01:23.126757",
     "exception": false,
     "start_time": "2022-08-13T21:01:23.122920",
     "status": "completed"
    },
    "tags": []
   },
   "source": [
    "# Exercises"
   ]
  },
  {
   "cell_type": "markdown",
   "id": "60b50f0c",
   "metadata": {
    "papermill": {
     "duration": 0.0038,
     "end_time": "2022-08-13T21:01:23.134609",
     "exception": false,
     "start_time": "2022-08-13T21:01:23.130809",
     "status": "completed"
    },
    "tags": []
   },
   "source": [
    "## 1. \n",
    "What is the data type of the `points` column in the dataset?"
   ]
  },
  {
   "cell_type": "code",
   "execution_count": 2,
   "id": "07ef818d",
   "metadata": {
    "execution": {
     "iopub.execute_input": "2022-08-13T21:01:23.144956Z",
     "iopub.status.busy": "2022-08-13T21:01:23.144329Z",
     "iopub.status.idle": "2022-08-13T21:01:23.155897Z",
     "shell.execute_reply": "2022-08-13T21:01:23.154464Z"
    },
    "papermill": {
     "duration": 0.019835,
     "end_time": "2022-08-13T21:01:23.158531",
     "exception": false,
     "start_time": "2022-08-13T21:01:23.138696",
     "status": "completed"
    },
    "tags": []
   },
   "outputs": [
    {
     "data": {
      "application/javascript": [
       "parent.postMessage({\"jupyterEvent\": \"custom.exercise_interaction\", \"data\": {\"outcomeType\": 1, \"valueTowardsCompletion\": 0.25, \"interactionType\": 1, \"questionType\": 1, \"questionId\": \"1_PointsDtype\", \"learnToolsVersion\": \"0.3.4\", \"failureMessage\": \"\", \"exceptionClass\": \"\", \"trace\": \"\"}}, \"*\")"
      ],
      "text/plain": [
       "<IPython.core.display.Javascript object>"
      ]
     },
     "metadata": {},
     "output_type": "display_data"
    },
    {
     "data": {
      "text/markdown": [
       "<span style=\"color:#33cc33\">Correct</span>"
      ],
      "text/plain": [
       "Correct"
      ]
     },
     "metadata": {},
     "output_type": "display_data"
    }
   ],
   "source": [
    "# Your code here\n",
    "dtype = reviews.points.dtype\n",
    "\n",
    "# Check your answer\n",
    "q1.check()"
   ]
  },
  {
   "cell_type": "code",
   "execution_count": 3,
   "id": "f29807b3",
   "metadata": {
    "execution": {
     "iopub.execute_input": "2022-08-13T21:01:23.169893Z",
     "iopub.status.busy": "2022-08-13T21:01:23.168972Z",
     "iopub.status.idle": "2022-08-13T21:01:23.174001Z",
     "shell.execute_reply": "2022-08-13T21:01:23.173183Z"
    },
    "papermill": {
     "duration": 0.012842,
     "end_time": "2022-08-13T21:01:23.176047",
     "exception": false,
     "start_time": "2022-08-13T21:01:23.163205",
     "status": "completed"
    },
    "tags": []
   },
   "outputs": [],
   "source": [
    "#q1.hint()\n",
    "#q1.solution()"
   ]
  },
  {
   "cell_type": "markdown",
   "id": "a51a1c95",
   "metadata": {
    "papermill": {
     "duration": 0.004129,
     "end_time": "2022-08-13T21:01:23.184819",
     "exception": false,
     "start_time": "2022-08-13T21:01:23.180690",
     "status": "completed"
    },
    "tags": []
   },
   "source": [
    "## 2. \n",
    "Create a Series from entries in the `points` column, but convert the entries to strings. Hint: strings are `str` in native Python."
   ]
  },
  {
   "cell_type": "code",
   "execution_count": 4,
   "id": "021a2b9b",
   "metadata": {
    "execution": {
     "iopub.execute_input": "2022-08-13T21:01:23.196077Z",
     "iopub.status.busy": "2022-08-13T21:01:23.195269Z",
     "iopub.status.idle": "2022-08-13T21:01:23.286065Z",
     "shell.execute_reply": "2022-08-13T21:01:23.285238Z"
    },
    "papermill": {
     "duration": 0.099151,
     "end_time": "2022-08-13T21:01:23.288471",
     "exception": false,
     "start_time": "2022-08-13T21:01:23.189320",
     "status": "completed"
    },
    "tags": []
   },
   "outputs": [
    {
     "data": {
      "application/javascript": [
       "parent.postMessage({\"jupyterEvent\": \"custom.exercise_interaction\", \"data\": {\"outcomeType\": 1, \"valueTowardsCompletion\": 0.25, \"interactionType\": 1, \"questionType\": 1, \"questionId\": \"2_StrPoints\", \"learnToolsVersion\": \"0.3.4\", \"failureMessage\": \"\", \"exceptionClass\": \"\", \"trace\": \"\"}}, \"*\")"
      ],
      "text/plain": [
       "<IPython.core.display.Javascript object>"
      ]
     },
     "metadata": {},
     "output_type": "display_data"
    },
    {
     "data": {
      "text/markdown": [
       "<span style=\"color:#33cc33\">Correct</span>"
      ],
      "text/plain": [
       "Correct"
      ]
     },
     "metadata": {},
     "output_type": "display_data"
    }
   ],
   "source": [
    "point_strings = reviews.points.astype(str)\n",
    "\n",
    "# Check your answer\n",
    "q2.check()"
   ]
  },
  {
   "cell_type": "code",
   "execution_count": 5,
   "id": "5aedccfd",
   "metadata": {
    "execution": {
     "iopub.execute_input": "2022-08-13T21:01:23.300709Z",
     "iopub.status.busy": "2022-08-13T21:01:23.300274Z",
     "iopub.status.idle": "2022-08-13T21:01:23.304259Z",
     "shell.execute_reply": "2022-08-13T21:01:23.303449Z"
    },
    "papermill": {
     "duration": 0.012648,
     "end_time": "2022-08-13T21:01:23.306305",
     "exception": false,
     "start_time": "2022-08-13T21:01:23.293657",
     "status": "completed"
    },
    "tags": []
   },
   "outputs": [],
   "source": [
    "#q2.hint()\n",
    "#q2.solution()"
   ]
  },
  {
   "cell_type": "markdown",
   "id": "7d790cfd",
   "metadata": {
    "papermill": {
     "duration": 0.004611,
     "end_time": "2022-08-13T21:01:23.315736",
     "exception": false,
     "start_time": "2022-08-13T21:01:23.311125",
     "status": "completed"
    },
    "tags": []
   },
   "source": [
    "## 3.\n",
    "Sometimes the price column is null. How many reviews in the dataset are missing a price?"
   ]
  },
  {
   "cell_type": "code",
   "execution_count": 6,
   "id": "e66033c4",
   "metadata": {
    "execution": {
     "iopub.execute_input": "2022-08-13T21:01:23.327225Z",
     "iopub.status.busy": "2022-08-13T21:01:23.326375Z",
     "iopub.status.idle": "2022-08-13T21:01:23.345124Z",
     "shell.execute_reply": "2022-08-13T21:01:23.343969Z"
    },
    "papermill": {
     "duration": 0.027251,
     "end_time": "2022-08-13T21:01:23.347715",
     "exception": false,
     "start_time": "2022-08-13T21:01:23.320464",
     "status": "completed"
    },
    "tags": []
   },
   "outputs": [
    {
     "data": {
      "application/javascript": [
       "parent.postMessage({\"jupyterEvent\": \"custom.exercise_interaction\", \"data\": {\"outcomeType\": 1, \"valueTowardsCompletion\": 0.25, \"interactionType\": 1, \"questionType\": 1, \"questionId\": \"3_CountMissingPrices\", \"learnToolsVersion\": \"0.3.4\", \"failureMessage\": \"\", \"exceptionClass\": \"\", \"trace\": \"\"}}, \"*\")"
      ],
      "text/plain": [
       "<IPython.core.display.Javascript object>"
      ]
     },
     "metadata": {},
     "output_type": "display_data"
    },
    {
     "data": {
      "text/markdown": [
       "<span style=\"color:#33cc33\">Correct</span>"
      ],
      "text/plain": [
       "Correct"
      ]
     },
     "metadata": {},
     "output_type": "display_data"
    }
   ],
   "source": [
    "missing_price_reviews = reviews[reviews.price.isnull()]\n",
    "n_missing_prices = len(missing_price_reviews)\n",
    "n_missing_prices = reviews.price.isnull().sum()\n",
    "n_missing_prices = pd.isnull(reviews.price).sum()\n",
    "\n",
    "# Check your answer\n",
    "q3.check()"
   ]
  },
  {
   "cell_type": "code",
   "execution_count": 7,
   "id": "5f6d5602",
   "metadata": {
    "execution": {
     "iopub.execute_input": "2022-08-13T21:01:23.359734Z",
     "iopub.status.busy": "2022-08-13T21:01:23.358942Z",
     "iopub.status.idle": "2022-08-13T21:01:23.363637Z",
     "shell.execute_reply": "2022-08-13T21:01:23.362459Z"
    },
    "papermill": {
     "duration": 0.013175,
     "end_time": "2022-08-13T21:01:23.365846",
     "exception": false,
     "start_time": "2022-08-13T21:01:23.352671",
     "status": "completed"
    },
    "tags": []
   },
   "outputs": [],
   "source": [
    "#q3.hint()\n",
    "#q3.solution()"
   ]
  },
  {
   "cell_type": "markdown",
   "id": "bbff4963",
   "metadata": {
    "papermill": {
     "duration": 0.004733,
     "end_time": "2022-08-13T21:01:23.375721",
     "exception": false,
     "start_time": "2022-08-13T21:01:23.370988",
     "status": "completed"
    },
    "tags": []
   },
   "source": [
    "## 4.\n",
    "What are the most common wine-producing regions? Create a Series counting the number of times each value occurs in the `region_1` field. This field is often missing data, so replace missing values with `Unknown`. Sort in descending order.  Your output should look something like this:\n",
    "\n",
    "```\n",
    "Unknown                    21247\n",
    "Napa Valley                 4480\n",
    "                           ...  \n",
    "Bardolino Superiore            1\n",
    "Primitivo del Tarantino        1\n",
    "Name: region_1, Length: 1230, dtype: int64\n",
    "```"
   ]
  },
  {
   "cell_type": "code",
   "execution_count": 8,
   "id": "464ffc02",
   "metadata": {
    "execution": {
     "iopub.execute_input": "2022-08-13T21:01:23.387951Z",
     "iopub.status.busy": "2022-08-13T21:01:23.386864Z",
     "iopub.status.idle": "2022-08-13T21:01:23.428408Z",
     "shell.execute_reply": "2022-08-13T21:01:23.427616Z"
    },
    "papermill": {
     "duration": 0.049918,
     "end_time": "2022-08-13T21:01:23.430569",
     "exception": false,
     "start_time": "2022-08-13T21:01:23.380651",
     "status": "completed"
    },
    "tags": []
   },
   "outputs": [
    {
     "data": {
      "application/javascript": [
       "parent.postMessage({\"jupyterEvent\": \"custom.exercise_interaction\", \"data\": {\"outcomeType\": 1, \"valueTowardsCompletion\": 0.25, \"interactionType\": 1, \"questionType\": 2, \"questionId\": \"4_ReviewsPerRegion\", \"learnToolsVersion\": \"0.3.4\", \"failureMessage\": \"\", \"exceptionClass\": \"\", \"trace\": \"\"}}, \"*\")"
      ],
      "text/plain": [
       "<IPython.core.display.Javascript object>"
      ]
     },
     "metadata": {},
     "output_type": "display_data"
    },
    {
     "data": {
      "text/markdown": [
       "<span style=\"color:#33cc33\">Correct</span>"
      ],
      "text/plain": [
       "Correct"
      ]
     },
     "metadata": {},
     "output_type": "display_data"
    }
   ],
   "source": [
    "reviews_per_region = reviews.region_1.fillna('Unknown').value_counts().sort_values(ascending=False)\n",
    "# Check your answer\n",
    "q4.check()"
   ]
  },
  {
   "cell_type": "code",
   "execution_count": 9,
   "id": "a6ce33ba",
   "metadata": {
    "execution": {
     "iopub.execute_input": "2022-08-13T21:01:23.443251Z",
     "iopub.status.busy": "2022-08-13T21:01:23.442812Z",
     "iopub.status.idle": "2022-08-13T21:01:23.446720Z",
     "shell.execute_reply": "2022-08-13T21:01:23.445709Z"
    },
    "papermill": {
     "duration": 0.013101,
     "end_time": "2022-08-13T21:01:23.448987",
     "exception": false,
     "start_time": "2022-08-13T21:01:23.435886",
     "status": "completed"
    },
    "tags": []
   },
   "outputs": [],
   "source": [
    "#q4.hint()\n",
    "#q4.solution()"
   ]
  },
  {
   "cell_type": "markdown",
   "id": "5de86c4d",
   "metadata": {
    "papermill": {
     "duration": 0.004981,
     "end_time": "2022-08-13T21:01:23.459460",
     "exception": false,
     "start_time": "2022-08-13T21:01:23.454479",
     "status": "completed"
    },
    "tags": []
   },
   "source": [
    "# Keep going\n",
    "\n",
    "Move on to **[renaming and combining](https://www.kaggle.com/residentmario/renaming-and-combining)**."
   ]
  },
  {
   "cell_type": "markdown",
   "id": "1d20306c",
   "metadata": {
    "papermill": {
     "duration": 0.005013,
     "end_time": "2022-08-13T21:01:23.469807",
     "exception": false,
     "start_time": "2022-08-13T21:01:23.464794",
     "status": "completed"
    },
    "tags": []
   },
   "source": [
    "---\n",
    "\n",
    "\n",
    "\n",
    "\n",
    "*Have questions or comments? Visit the [course discussion forum](https://www.kaggle.com/learn/pandas/discussion) to chat with other learners.*"
   ]
  }
 ],
 "metadata": {
  "kernelspec": {
   "display_name": "Python 3",
   "language": "python",
   "name": "python3"
  },
  "language_info": {
   "codemirror_mode": {
    "name": "ipython",
    "version": 3
   },
   "file_extension": ".py",
   "mimetype": "text/x-python",
   "name": "python",
   "nbconvert_exporter": "python",
   "pygments_lexer": "ipython3",
   "version": "3.7.12"
  },
  "papermill": {
   "default_parameters": {},
   "duration": 14.164431,
   "end_time": "2022-08-13T21:01:24.197005",
   "environment_variables": {},
   "exception": null,
   "input_path": "__notebook__.ipynb",
   "output_path": "__notebook__.ipynb",
   "parameters": {},
   "start_time": "2022-08-13T21:01:10.032574",
   "version": "2.3.4"
  }
 },
 "nbformat": 4,
 "nbformat_minor": 5
}
